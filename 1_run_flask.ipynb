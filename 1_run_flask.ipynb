{
 "cells": [
  {
   "cell_type": "markdown",
   "metadata": {},
   "source": [
    "## Run Flask\n",
    "Run your flask app (`wsgi.py`) from here and test it from a separate notebook."
   ]
  },
  {
   "cell_type": "code",
   "execution_count": 1,
   "metadata": {},
   "outputs": [
    {
     "name": "stdout",
     "output_type": "stream",
     "text": [
      "Requirement already satisfied: Flask in c:\\users\\tage\\programmering\\flasktemplate\\venv\\lib\\site-packages (from -r requirements.txt (line 1)) (3.0.0)\n",
      "Requirement already satisfied: gunicorn in c:\\users\\tage\\programmering\\flasktemplate\\venv\\lib\\site-packages (from -r requirements.txt (line 2)) (21.2.0)\n",
      "Requirement already satisfied: Werkzeug>=3.0.0 in c:\\users\\tage\\programmering\\flasktemplate\\venv\\lib\\site-packages (from Flask->-r requirements.txt (line 1)) (3.0.1)\n",
      "Requirement already satisfied: Jinja2>=3.1.2 in c:\\users\\tage\\programmering\\flasktemplate\\venv\\lib\\site-packages (from Flask->-r requirements.txt (line 1)) (3.1.2)\n",
      "Requirement already satisfied: itsdangerous>=2.1.2 in c:\\users\\tage\\programmering\\flasktemplate\\venv\\lib\\site-packages (from Flask->-r requirements.txt (line 1)) (2.1.2)\n",
      "Requirement already satisfied: click>=8.1.3 in c:\\users\\tage\\programmering\\flasktemplate\\venv\\lib\\site-packages (from Flask->-r requirements.txt (line 1)) (8.1.7)\n",
      "Requirement already satisfied: blinker>=1.6.2 in c:\\users\\tage\\programmering\\flasktemplate\\venv\\lib\\site-packages (from Flask->-r requirements.txt (line 1)) (1.7.0)\n",
      "Requirement already satisfied: packaging in c:\\users\\tage\\programmering\\flasktemplate\\venv\\lib\\site-packages (from gunicorn->-r requirements.txt (line 2)) (23.2)\n",
      "Requirement already satisfied: colorama in c:\\users\\tage\\programmering\\flasktemplate\\venv\\lib\\site-packages (from click>=8.1.3->Flask->-r requirements.txt (line 1)) (0.4.6)\n",
      "Requirement already satisfied: MarkupSafe>=2.0 in c:\\users\\tage\\programmering\\flasktemplate\\venv\\lib\\site-packages (from Jinja2>=3.1.2->Flask->-r requirements.txt (line 1)) (2.1.3)\n"
     ]
    },
    {
     "name": "stderr",
     "output_type": "stream",
     "text": [
      "\n",
      "[notice] A new release of pip available: 22.3 -> 23.3.1\n",
      "[notice] To update, run: c:\\Users\\Tage\\Programmering\\flasktemplate\\venv\\Scripts\\python.exe -m pip install --upgrade pip\n"
     ]
    }
   ],
   "source": [
    "import sys\n",
    "!{sys.executable} -m pip install -r requirements.txt\n"
   ]
  },
  {
   "cell_type": "code",
   "execution_count": null,
   "metadata": {},
   "outputs": [],
   "source": [
    "!FLASK_ENV=development FLASK_APP=wsgi.py flask run"
   ]
  }
 ],
 "metadata": {
  "kernelspec": {
   "display_name": "Python 3",
   "language": "python",
   "name": "python3"
  },
  "language_info": {
   "codemirror_mode": {
    "name": "ipython",
    "version": 3
   },
   "file_extension": ".py",
   "mimetype": "text/x-python",
   "name": "python",
   "nbconvert_exporter": "python",
   "pygments_lexer": "ipython3",
   "version": "3.11.0"
  }
 },
 "nbformat": 4,
 "nbformat_minor": 4
}
